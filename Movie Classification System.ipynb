{
 "cells": [
  {
   "cell_type": "code",
   "execution_count": 2,
   "metadata": {},
   "outputs": [
    {
     "name": "stdout",
     "output_type": "stream",
     "text": [
      "Enter 'a' to add a movie, 'l' to see your movies, 'f' to find a movie and 'q' to quit: q\n",
      "[]\n"
     ]
    }
   ],
   "source": [
    "'''\n",
    "PROJECT 1: MOVIE CLASSIFICATION SYSTEM\n",
    "\n",
    "Tasks:\n",
    "\n",
    "* Show the user the main interface and get their inputs \n",
    "* Allow user to add movie\n",
    "* Show all their movies\n",
    "* Find a movie\n",
    "* Stop running the programme\n",
    "'''\n",
    "\n",
    "movies = []\n",
    "\n",
    "'''\n",
    "Let each movie be a dictionary with the following format:\n",
    "\n",
    "movie = {\n",
    "        'name' = 'str'\n",
    "        'genre' = 'str'\n",
    "        'director' = 'str'\n",
    "        'year' = (int)\n",
    "}\n",
    "'''\n",
    "\n",
    "def menu():\n",
    "    user_input = input(\"Enter 'a' to add a movie, 'l' to see your movies, 'f' to find a movie and 'q' to quit: \")\n",
    "    \n",
    "    while user_input != 'q':\n",
    "        if user_input == 'a':\n",
    "            add_movie()\n",
    "        elif user_input == 'l':\n",
    "            show_movies()\n",
    "        elif user_input == 'f':\n",
    "            find_movie()\n",
    "        else:\n",
    "            print('Unknown command! Please try again.')\n",
    "            \n",
    "        user_input = input(\"Enter 'a' to add a movie, 'l' to see your movies, 'f' to find a movie and 'q' to quit: \")\n",
    "       \n",
    "    \n",
    "def add_movie():\n",
    "    name = input('Enter the movie name: ')\n",
    "    genre = input('Enter the movie genre: ')\n",
    "    director = input('Enter the movie director: ')\n",
    "    year = int(input('Enter the movie year: '))\n",
    "    \n",
    "    movies.append({\n",
    "        'name': name,\n",
    "        'genre': genre,\n",
    "        'director': director,\n",
    "        'year': year\n",
    "    })\n",
    "    \n",
    "    \n",
    "menu()\n",
    "\n",
    "print(movies)"
   ]
  },
  {
   "cell_type": "code",
   "execution_count": null,
   "metadata": {},
   "outputs": [],
   "source": []
  }
 ],
 "metadata": {
  "kernelspec": {
   "display_name": "Python 3",
   "language": "python",
   "name": "python3"
  },
  "language_info": {
   "codemirror_mode": {
    "name": "ipython",
    "version": 3
   },
   "file_extension": ".py",
   "mimetype": "text/x-python",
   "name": "python",
   "nbconvert_exporter": "python",
   "pygments_lexer": "ipython3",
   "version": "3.7.3"
  }
 },
 "nbformat": 4,
 "nbformat_minor": 2
}
